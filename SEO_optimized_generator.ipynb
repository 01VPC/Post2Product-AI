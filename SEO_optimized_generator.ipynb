{
 "cells": [
  {
   "cell_type": "code",
   "execution_count": 2,
   "id": "f214058a-be14-4e10-9206-1972603ffe02",
   "metadata": {},
   "outputs": [],
   "source": [
    "import argparse\n",
    "import json\n",
    "from groq import Groq"
   ]
  },
  {
   "cell_type": "code",
   "execution_count": 3,
   "id": "1ebc65da-0bc1-4c71-94a7-c2d6b51317ea",
   "metadata": {},
   "outputs": [],
   "source": [
    "GROQ_API_KEY = \"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\""
   ]
  },
  {
   "cell_type": "code",
   "execution_count": 30,
   "id": "863996fe-9370-466a-a0a6-c18351edc054",
   "metadata": {},
   "outputs": [],
   "source": [
    "Amazon_guidelines = \"\"\"\n",
    "Amazon Product Listing Guidelines:\n",
    "        1. Title must be less than 200 characters\n",
    "        2. No phone numbers, addresses, email addresses, or URLs in titles or descriptions\n",
    "        3. No alternative ordering information\n",
    "        4. No reviews, quotes, or testimonials\n",
    "        5. No solicitations for customer reviews\n",
    "        6. No advertisements or promotional material\n",
    "        7. No time-sensitive information\n",
    "        8. No HTML or special characters (*/? etc.) in titles or descriptions\n",
    "        9. Product must be a digital or cloud-based subscription service if its suitable to that product\n",
    "        10. Description should clearly explain what the product is and its value proposition\n",
    "\"\"\""
   ]
  },
  {
   "cell_type": "code",
   "execution_count": 31,
   "id": "d72901a4-88f5-43cf-9f33-025f4016df70",
   "metadata": {},
   "outputs": [],
   "source": [
    "brand = \"Neemans\"\n",
    "image_description = \"A grey shoes with light blue strides on the side\"\n",
    "instagram_caption = \"\"\"\n",
    "Stepping into style with shades of grey and a splash of blue 💙👟 #FreshKicks #StreetStyle #GreyAndBlueVibes\n",
    "\"\"\"\n",
    "product_category=\"Footwear, Sneakers, Casual Shoes, Unisex, Streetwear, Athleisure, Sportswear\""
   ]
  },
  {
   "cell_type": "code",
   "execution_count": 32,
   "id": "e66dbf17-f24b-4494-8c6f-3ed0c9bdb32e",
   "metadata": {},
   "outputs": [],
   "source": [
    "prompt = f\"\"\"\n",
    "        You are an expert e-commerce content specialist tasked with creating Amazon-compliant product listings for amazon.\n",
    "        \n",
    "        INPUTS:\n",
    "        1. Image Description: {image_description}\n",
    "        2. Social Media Caption: {instagram_caption}\n",
    "        3. Product Category: {product_category if product_category else \"Not specified\"}\n",
    "        4.Brand: {brand}\n",
    "        GUIDELINES:\n",
    "        {Amazon_guidelines}\n",
    "        \n",
    "        TASK:\n",
    "        Based on the inputs, generate an Amazon-compliant product listing for amazon. The listing should include:\n",
    "        \n",
    "        1. A compelling product title (less than 200 characters) including the brand name in it\n",
    "        2. A detailed product description (300-500 words) that:\n",
    "           - Clearly explains what the product is\n",
    "           - Highlights key features and benefits\n",
    "           - Is SEO-optimized with relevant keywords\n",
    "           - Includes appropriate subscription terms information\n",
    "           - Follows all Amazon guidelines\n",
    "           - Is professional and free of promotional language\n",
    "        \n",
    "        Format your response as JSON with the following structure:\n",
    "        {{\n",
    "            \"title\": \"Your generated title here\",\n",
    "            \"description\": \"Your generated description here\",\n",
    "            \"keyword_suggestions\": [\"keyword1\", \"keyword2\", \"keyword3\", \"keyword4\", \"keyword5\"]\n",
    "        }}\n",
    "        \"\"\""
   ]
  },
  {
   "cell_type": "code",
   "execution_count": 16,
   "id": "dcd1886a-5145-4dad-980b-b1e8d0e334cc",
   "metadata": {},
   "outputs": [],
   "source": [
    "client = Groq(api_key=GROQ_API_KEY)"
   ]
  },
  {
   "cell_type": "code",
   "execution_count": 33,
   "id": "69297946-e861-498a-a693-d444cb80e3bf",
   "metadata": {},
   "outputs": [],
   "source": [
    "response = client.chat.completions.create(\n",
    "            messages=[\n",
    "                {\"role\": \"system\", \"content\": \"You are an Amazon product listing expert AI.\"},\n",
    "                {\"role\": \"user\", \"content\": prompt}\n",
    "            ],\n",
    "            model=\"gemma2-9b-it\",  # Using Mixtral model for complex reasoning\n",
    "            temperature=0.7,\n",
    "            max_tokens=2048\n",
    "        )"
   ]
  },
  {
   "cell_type": "code",
   "execution_count": 34,
   "id": "96ef0fb3-e6b6-4ce4-ade6-94dd676dfc8e",
   "metadata": {},
   "outputs": [],
   "source": [
    "response_content = response.choices[0].message.content"
   ]
  },
  {
   "cell_type": "code",
   "execution_count": 35,
   "id": "8173b006-d2d2-42cb-bc7e-4f2c1ed4cfe8",
   "metadata": {},
   "outputs": [
    {
     "data": {
      "text/plain": [
       "'```json\\n{\\n  \"title\": \"Neemans Grey and Light Blue Sneakers - Unisex Casual Shoes\",\\n  \"description\": \"The Neemans Grey and Light Blue Sneakers are a stylish and comfortable choice for everyday wear. These unisex sneakers feature a classic grey color with a vibrant light blue stripe detail on the side, adding a pop of color to any outfit.\\n\\nCrafted with high-quality materials, these sneakers offer durability and long-lasting wear. The breathable upper ensures optimal comfort, while the cushioned insole provides excellent support for your feet. \\n\\n**Key Features:**\\n\\n* **Versatile Design:** The grey and blue color combination complements a wide range of outfits, making these sneakers perfect for casual, streetwear, athleisure, and sportswear styles.\\n* **Comfortable Fit:** The breathable upper and cushioned insole provide all-day comfort, allowing you to move freely without discomfort.\\n* **Durable Construction:** Made with high-quality materials, these sneakers are built to withstand everyday wear and tear.\\n* **Unisex Style:**  Suitable for both men and women, these sneakers offer a fashionable and functional choice for everyone.\\n\\n**Whether you\\'re running errands, hitting the gym, or simply hanging out with friends, the Neemans Grey and Light Blue Sneakers are the perfect footwear to keep you looking and feeling your best. \",\\n  \"keyword_suggestions\": [\"sneakers\", \"casual shoes\", \"unisex shoes\", \"streetwear\", \"athleisure\", \"sportswear\", \"grey sneakers\", \"blue sneakers\", \"Neemans shoes\", \"comfortable sneakers\", \"durable sneakers\"]\\n}\\n``` \\n\\n\\n**Explanation:**\\n\\n* **Title:** Concisely describes the product, brand, and key features (color and style) within the character limit.\\n* **Description:** \\n    * Starts with a compelling opening sentence highlighting style and comfort.\\n    * Clearly states what the product is and its key benefits.\\n    * Uses bullet points to emphasize key features for easy readability.\\n    *  Avoids promotional language and sticks to factual information.\\n    *  Includes relevant keywords naturally within the text.\\n* **Keyword Suggestions:**  A list of relevant terms that potential customers might use to search for this product.\\n\\n\\n\\nLet me know if you have any other products you\\'d like me to create listings for!\\n'"
      ]
     },
     "execution_count": 35,
     "metadata": {},
     "output_type": "execute_result"
    }
   ],
   "source": [
    "response_content"
   ]
  },
  {
   "cell_type": "code",
   "execution_count": 20,
   "id": "2c9d4b90-ff92-4975-81ef-af5acc9d4d93",
   "metadata": {},
   "outputs": [],
   "source": [
    "import re "
   ]
  },
  {
   "cell_type": "code",
   "execution_count": 36,
   "id": "b3797b3a-cf79-4d2d-82b1-4002d4d394bd",
   "metadata": {},
   "outputs": [
    {
     "name": "stdout",
     "output_type": "stream",
     "text": [
      "JSON decoding failed: Invalid control character at: line 3 column 256 (char 330)\n",
      "Offending JSON string:\n",
      " {\n",
      "  \"title\": \"Neemans Grey and Light Blue Sneakers - Unisex Casual Shoes\",\n",
      "  \"description\": \"The Neemans Grey and Light Blue Sneakers are a stylish and comfortable choice for everyday wear. These unisex sneakers feature a classic grey color with a vibrant light blue stripe detail on the side, adding a pop of color to any outfit.\n",
      "\n",
      "Crafted with high-quality materials, these sneakers offer durability and long-lasting wear. The breathable upper ensures optimal comfort, while the cushioned insole provides excellent support for your feet. \n",
      "\n",
      "**Key Features:**\n",
      "\n",
      "* **Versatile Design:** The grey and blue color combination complements a wide range of outfits, making these sneakers perfect for casual, streetwear, athleisure, and sportswear styles.\n",
      "* **Comfortable Fit:** The breathable upper and cushioned insole provide all-day comfort, allowing you to move freely without discomfort.\n",
      "* **Durable Construction:** Made with high-quality materials, these sneakers are built to withstand everyday wear and tear.\n",
      "* **Unisex Style:**  Suitable for both men and women, these sneakers offer a fashionable and functional choice for everyone.\n",
      "\n",
      "**Whether you're running errands, hitting the gym, or simply hanging out with friends, the Neemans Grey and Light Blue Sneakers are the perfect footwear to keep you looking and feeling your best. \",\n",
      "  \"keyword_suggestions\": [\"sneakers\", \"casual shoes\", \"unisex shoes\", \"streetwear\", \"athleisure\", \"sportswear\", \"grey sneakers\", \"blue sneakers\", \"Neemans shoes\", \"comfortable sneakers\", \"durable sneakers\"]\n",
      "}\n"
     ]
    }
   ],
   "source": [
    "# Step 1: Extract the JSON block inside ```json ... ```\n",
    "match = re.search(r\"```json\\s*(\\{.*?\\})\\s*```\", response_content, re.DOTALL)\n",
    "\n",
    "if match:\n",
    "    json_str = match.group(1)\n",
    "\n",
    "    try:\n",
    "        # Step 2: Parse the JSON block directly\n",
    "        data = json.loads(json_str)\n",
    "\n",
    "        # Step 3: Access title and description\n",
    "        title = data.get(\"title\", \"\")\n",
    "        description = data.get(\"description\", \"\")\n",
    "\n",
    "        print(\"Title:\\n\", title)\n",
    "        print(\"\\nDescription:\\n\", description)\n",
    "\n",
    "    except json.JSONDecodeError as e:\n",
    "        print(\"JSON decoding failed:\", e)\n",
    "        print(\"Offending JSON string:\\n\", json_str)\n",
    "else:\n",
    "    print(\"JSON block not found.\")"
   ]
  },
  {
   "cell_type": "code",
   "execution_count": null,
   "id": "c91cc9c0-8725-4d27-ae66-08f839e7f1b9",
   "metadata": {},
   "outputs": [],
   "source": []
  },
  {
   "cell_type": "code",
   "execution_count": 1,
   "id": "6db2d89f-f06d-40d7-b492-f6ad969d5fed",
   "metadata": {},
   "outputs": [],
   "source": [
    "import pandas as pd\n",
    "\n",
    "df = pd.read_csv(\"Stylumia Data.csv\")\n",
    "df = df.sample(n=2500, random_state=42)\n",
    "df.to_csv(\"Stylumia2500.csv\", index=False)\n"
   ]
  },
  {
   "cell_type": "code",
   "execution_count": null,
   "id": "848db6ed-07e9-47b9-8b96-10f4af316f15",
   "metadata": {},
   "outputs": [],
   "source": []
  }
 ],
 "metadata": {
  "kernelspec": {
   "display_name": "Python 3 (ipykernel)",
   "language": "python",
   "name": "python3"
  },
  "language_info": {
   "codemirror_mode": {
    "name": "ipython",
    "version": 3
   },
   "file_extension": ".py",
   "mimetype": "text/x-python",
   "name": "python",
   "nbconvert_exporter": "python",
   "pygments_lexer": "ipython3",
   "version": "3.11.0"
  }
 },
 "nbformat": 4,
 "nbformat_minor": 5
}
